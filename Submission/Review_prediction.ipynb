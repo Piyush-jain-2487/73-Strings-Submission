{
  "nbformat": 4,
  "nbformat_minor": 0,
  "metadata": {
    "colab": {
      "name": "Review_prediction.ipynb",
      "provenance": [],
      "collapsed_sections": []
    },
    "kernelspec": {
      "name": "python3",
      "display_name": "Python 3"
    },
    "accelerator": "TPU"
  },
  "cells": [
    {
      "cell_type": "code",
      "metadata": {
        "id": "s4XUTxMaxfMd"
      },
      "source": [
        "import numpy as np\n",
        "import pandas as pd, matplotlib.pyplot as plt, seaborn as sns\n",
        "import os, codecs\n",
        "import tensorflow as tf\n",
        "from nltk.tokenize import RegexpTokenizer\n",
        "import re\n",
        "import keras\n",
        "from keras.models import Sequential\n",
        "from keras.layers import Dense\n",
        "from keras.layers import Flatten\n",
        "from keras.layers import LSTM\n",
        "from keras.layers import Conv1D\n",
        "from keras.layers.embeddings import Embedding\n",
        "from keras.layers import Bidirectional\n",
        "from keras.preprocessing import sequence\n",
        "from keras.layers import Dropout\n",
        "from keras.layers import GlobalMaxPooling1D\n",
        "import h5py\n",
        "from keras.models import model_from_json\n",
        "from keras.models import load_model"
      ],
      "execution_count": 1,
      "outputs": []
    },
    {
      "cell_type": "code",
      "metadata": {
        "id": "TWFyMSd1SInO",
        "outputId": "b8d22cf9-600b-46ea-e466-f3e1849877b4",
        "colab": {
          "base_uri": "https://localhost:8080/",
          "height": 34
        }
      },
      "source": [
        "gloveFile = 'glove_6B_100d.txt'\n",
        "\n",
        "vocab = set()\n",
        "sentence_path = 'stanfordSentimentTreebank/SOStr.txt'\n",
        "filtered_glove_path = os.path.join('stanfordSentimentTreebank', '/filtered_glove.txt')\n",
        "# Download the full set of unlabeled sentences separated by '|'.\n",
        "#sentence_path, = download_and_unzip(\n",
        "#'http://nlp.stanford.edu/~socherr/', 'stanfordSentimentTreebank.zip',\n",
        "#'stanfordSentimentTreebank/SOStr.txt')\n",
        "with codecs.open(sentence_path, encoding='utf-8') as f:\n",
        "    for line in f:\n",
        "    # Drop the trailing newline and strip backslashes. Split into words.\n",
        "        vocab.update(line.strip().replace('\\\\', '').split('|'))\n",
        "nread = 0\n",
        "nwrote = 0\n",
        "with codecs.open(gloveFile, encoding='utf-8') as f:\n",
        "    with codecs.open(filtered_glove_path, 'w', encoding='utf-8') as out:\n",
        "        for line in f:\n",
        "            nread += 1\n",
        "            line = line.strip()\n",
        "            if not line: continue\n",
        "            if line.split(u' ', 1)[0] in vocab:\n",
        "                out.write(line + '\\n')\n",
        "                nwrote += 1\n",
        "print('read %s lines, wrote %s' % (nread, nwrote))\n"
      ],
      "execution_count": 3,
      "outputs": [
        {
          "output_type": "stream",
          "text": [
            "read 400000 lines, wrote 14941\n"
          ],
          "name": "stdout"
        }
      ]
    },
    {
      "cell_type": "code",
      "metadata": {
        "id": "ho5w2uRzSpKE",
        "outputId": "e35780f7-f3ce-42fd-8c2c-dea0fe7c89d8",
        "colab": {
          "base_uri": "https://localhost:8080/",
          "height": 51
        }
      },
      "source": [
        "print (\"Loading Glove Model\")\n",
        "f = open(gloveFile,'r',encoding='utf-8')\n",
        "model = {}\n",
        "for line in f:\n",
        "    try:\n",
        "        splitLine = line.split()\n",
        "        word = splitLine[0]\n",
        "        embedding = [float(val) for val in splitLine[1:]]\n",
        "        model[word] = embedding\n",
        "    except:\n",
        "        print (word)\n",
        "        continue\n",
        "\n",
        "print (\"Done.\",len(model),\" words loaded!\")"
      ],
      "execution_count": 4,
      "outputs": [
        {
          "output_type": "stream",
          "text": [
            "Loading Glove Model\n",
            "Done. 400000  words loaded!\n"
          ],
          "name": "stdout"
        }
      ]
    },
    {
      "cell_type": "code",
      "metadata": {
        "id": "FCnZFDvqS0mf"
      },
      "source": [
        "max_words = 1539 # max no of words in your data\n",
        "batch_size = 2000 # batch size for training\n",
        "EMBEDDING_DIM = 100 # size of the word embeddings\n",
        "train_flag = True"
      ],
      "execution_count": 5,
      "outputs": []
    },
    {
      "cell_type": "code",
      "metadata": {
        "id": "YqZksx3aN9eZ",
        "outputId": "0aceb511-f235-43e4-b59e-0c3707d4bb0e",
        "colab": {
          "base_uri": "https://localhost:8080/",
          "height": 34
        }
      },
      "source": [
        "first_run = False\n",
        "load_all = True\n",
        "if train_flag:\n",
        "\n",
        "    if load_all == True:\n",
        "        print('loading word embeddings from %s' % gloveFile)\n",
        "        weight_vectors = []\n",
        "        word_idx = {}\n",
        "        with codecs.open(gloveFile, encoding='utf-8') as f:\n",
        "            for line in f:\n",
        "                word, vec = line.split(u' ', 1)\n",
        "                word_idx[word] = len(weight_vectors)\n",
        "                weight_vectors.append(np.array(vec.split(), dtype=np.float32))\n",
        "        # Annoying implementation detail; '(' and ')' are replaced by '-LRB-' and\n",
        "        # '-RRB-' respectively in the parse-trees.\n",
        "        word_idx[u'-LRB-'] = word_idx.pop(u'(')\n",
        "        word_idx[u'-RRB-'] = word_idx.pop(u')')\n",
        "        # Random embedding vector for unknown words.\n",
        "        weight_vectors.append(np.random.uniform(\n",
        "            -0.05, 0.05, weight_vectors[0].shape).astype(np.float32))\n",
        "        weight_matrix = np.stack(weight_vectors)\n",
        "\n",
        "    else:\n",
        "        print('loading word embeddings from %s' % filtered_glove_path)\n",
        "        weight_vectors = []\n",
        "        word_idx = {}\n",
        "        with codecs.open(filtered_glove_path, encoding='utf-8') as f:\n",
        "            for line in f:\n",
        "                word, vec = line.split(u' ', 1)\n",
        "                word_idx[word] = len(weight_vectors)\n",
        "                weight_vectors.append(np.array(vec.split(), dtype=np.float32))\n",
        "        # Annoying implementation detail; '(' and ')' are replaced by '-LRB-' and\n",
        "        # '-RRB-' respectively in the parse-trees.\n",
        "        word_idx[u'-LRB-'] = word_idx.pop(u'(')\n",
        "        word_idx[u'-RRB-'] = word_idx.pop(u')')\n",
        "        # Random embedding vector for unknown words.\n",
        "        weight_vectors.append(np.random.uniform(\n",
        "            -0.05, 0.05, weight_vectors[0].shape).astype(np.float32))\n",
        "        weight_matrix = np.stack(weight_vectors)"
      ],
      "execution_count": 6,
      "outputs": [
        {
          "output_type": "stream",
          "text": [
            "loading word embeddings from glove_6B_100d.txt\n"
          ],
          "name": "stdout"
        }
      ]
    },
    {
      "cell_type": "code",
      "metadata": {
        "id": "xuRfMyiSTDeK",
        "outputId": "0b5d136b-4187-450d-9a90-4a4cd33dc4a4",
        "colab": {
          "base_uri": "https://localhost:8080/",
          "height": 323
        }
      },
      "source": [
        "modelRNN = Sequential()\n",
        "modelRNN.add(Embedding(len(weight_matrix), EMBEDDING_DIM, weights=[weight_matrix], input_length=max_words, trainable=False))\n",
        "modelRNN.add(Bidirectional(LSTM(128, dropout=0.2, recurrent_dropout=0.2)))\n",
        "modelRNN.add(Dense(512, activation='relu'))\n",
        "modelRNN.add(Dropout(0.4))\n",
        "modelRNN.add(Dense(10, activation='softmax'))\n",
        "# try using different optimizers and different optimizer configs\n",
        "modelRNN.compile(loss='categorical_crossentropy',optimizer='adam', metrics=['accuracy'])\n",
        "\n",
        "modelRNN.summary()"
      ],
      "execution_count": 7,
      "outputs": [
        {
          "output_type": "stream",
          "text": [
            "Model: \"sequential\"\n",
            "_________________________________________________________________\n",
            "Layer (type)                 Output Shape              Param #   \n",
            "=================================================================\n",
            "embedding (Embedding)        (None, 1539, 100)         40000100  \n",
            "_________________________________________________________________\n",
            "bidirectional (Bidirectional (None, 256)               234496    \n",
            "_________________________________________________________________\n",
            "dense (Dense)                (None, 512)               131584    \n",
            "_________________________________________________________________\n",
            "dropout (Dropout)            (None, 512)               0         \n",
            "_________________________________________________________________\n",
            "dense_1 (Dense)              (None, 10)                5130      \n",
            "=================================================================\n",
            "Total params: 40,371,310\n",
            "Trainable params: 371,210\n",
            "Non-trainable params: 40,000,100\n",
            "_________________________________________________________________\n"
          ],
          "name": "stdout"
        }
      ]
    },
    {
      "cell_type": "code",
      "metadata": {
        "id": "dyUsxpwHiFMx",
        "outputId": "67df502d-6976-4cdb-8154-9c97275810e8",
        "colab": {
          "base_uri": "https://localhost:8080/",
          "height": 1000
        }
      },
      "source": [
        "df_amazon = pd.read_csv('Amazon_in.csv').drop('Unnamed: 0', axis = 1)\n",
        "df_amazon"
      ],
      "execution_count": 8,
      "outputs": [
        {
          "output_type": "execute_result",
          "data": {
            "text/html": [
              "<div>\n",
              "<style scoped>\n",
              "    .dataframe tbody tr th:only-of-type {\n",
              "        vertical-align: middle;\n",
              "    }\n",
              "\n",
              "    .dataframe tbody tr th {\n",
              "        vertical-align: top;\n",
              "    }\n",
              "\n",
              "    .dataframe thead th {\n",
              "        text-align: right;\n",
              "    }\n",
              "</style>\n",
              "<table border=\"1\" class=\"dataframe\">\n",
              "  <thead>\n",
              "    <tr style=\"text-align: right;\">\n",
              "      <th></th>\n",
              "      <th>user_id</th>\n",
              "      <th>ASIN</th>\n",
              "      <th>model_name</th>\n",
              "      <th>customer_name</th>\n",
              "      <th>Review_date</th>\n",
              "      <th>Reviews</th>\n",
              "      <th>Ratings</th>\n",
              "    </tr>\n",
              "  </thead>\n",
              "  <tbody>\n",
              "    <tr>\n",
              "      <th>0</th>\n",
              "      <td>AEWOUFCYNMHAOVU27GLBTETUANJQ</td>\n",
              "      <td>B07SDPTP6Q</td>\n",
              "      <td>OPPO A5 2020 (Dazzling White, 3GB RAM, 64GB St...</td>\n",
              "      <td>sanket yavalkar</td>\n",
              "      <td>23 September 2019</td>\n",
              "      <td>Brought this phone for my wife who is die hard...</td>\n",
              "      <td>5.0</td>\n",
              "    </tr>\n",
              "    <tr>\n",
              "      <th>1</th>\n",
              "      <td>AGGYOZ64YJTHOX5JJ3HIX45HTQ6Q</td>\n",
              "      <td>B07SDPTP6Q</td>\n",
              "      <td>OPPO A5 2020 (Dazzling White, 3GB RAM, 64GB St...</td>\n",
              "      <td>Pj</td>\n",
              "      <td>22 September 2019</td>\n",
              "      <td>Best option for exchange, I got it in 9k ,Revi...</td>\n",
              "      <td>5.0</td>\n",
              "    </tr>\n",
              "    <tr>\n",
              "      <th>2</th>\n",
              "      <td>AEQZJNT7OMU4AD4TAQDZASBEO4KQ</td>\n",
              "      <td>B07SDPTP6Q</td>\n",
              "      <td>OPPO A5 2020 (Dazzling White, 3GB RAM, 64GB St...</td>\n",
              "      <td>Amit</td>\n",
              "      <td>24 September 2019</td>\n",
              "      <td>Good Phone With Exchange</td>\n",
              "      <td>5.0</td>\n",
              "    </tr>\n",
              "    <tr>\n",
              "      <th>3</th>\n",
              "      <td>AGPTVBSB2A66CPW6PAH73KW7KUZQ</td>\n",
              "      <td>B07SDPTP6Q</td>\n",
              "      <td>OPPO A5 2020 (Dazzling White, 3GB RAM, 64GB St...</td>\n",
              "      <td>siddheshpatil</td>\n",
              "      <td>11 October 2019</td>\n",
              "      <td>Oppo makes very nice phone at this price range...</td>\n",
              "      <td>4.0</td>\n",
              "    </tr>\n",
              "    <tr>\n",
              "      <th>4</th>\n",
              "      <td>AH4UDKG5WUEJPD6KB5DWSQWCRQHQ</td>\n",
              "      <td>B07SDPTP6Q</td>\n",
              "      <td>OPPO A5 2020 (Dazzling White, 3GB RAM, 64GB St...</td>\n",
              "      <td>Javed Shaikh</td>\n",
              "      <td>25 September 2019</td>\n",
              "      <td>Lowest speed ever seen in android and charger ...</td>\n",
              "      <td>1.0</td>\n",
              "    </tr>\n",
              "    <tr>\n",
              "      <th>...</th>\n",
              "      <td>...</td>\n",
              "      <td>...</td>\n",
              "      <td>...</td>\n",
              "      <td>...</td>\n",
              "      <td>...</td>\n",
              "      <td>...</td>\n",
              "      <td>...</td>\n",
              "    </tr>\n",
              "    <tr>\n",
              "      <th>989</th>\n",
              "      <td>AFQEUSIV2DTRFLKZVYPSZBEPSHKA</td>\n",
              "      <td>B07X8V6TJF</td>\n",
              "      <td>Samsung Galaxy A51 (Black, 6GB RAM, 128GB Stor...</td>\n",
              "      <td>Sandeep</td>\n",
              "      <td>5 February 2020</td>\n",
              "      <td>I received a defective one and I'm just gettin...</td>\n",
              "      <td>1.0</td>\n",
              "    </tr>\n",
              "    <tr>\n",
              "      <th>990</th>\n",
              "      <td>AFPDMGK4PJXROQY4BARS7X6KO7WQ</td>\n",
              "      <td>B07X8V6TJF</td>\n",
              "      <td>Samsung Galaxy A51 (Black, 6GB RAM, 128GB Stor...</td>\n",
              "      <td>Amazon Customer</td>\n",
              "      <td>16 February 2020</td>\n",
              "      <td>Read this before you make a buying decisionI m...</td>\n",
              "      <td>2.0</td>\n",
              "    </tr>\n",
              "    <tr>\n",
              "      <th>991</th>\n",
              "      <td>AE4B6WKEYELUGBG27T35BAUVKD2Q</td>\n",
              "      <td>B07X8V6TJF</td>\n",
              "      <td>Samsung Galaxy A51 (Black, 6GB RAM, 128GB Stor...</td>\n",
              "      <td>Nilesh abhale</td>\n",
              "      <td>16 February 2020</td>\n",
              "      <td>+ve1. Great camera offcourse. Both rear and fr...</td>\n",
              "      <td>4.0</td>\n",
              "    </tr>\n",
              "    <tr>\n",
              "      <th>992</th>\n",
              "      <td>AEV75IBHJW5VVD4PBHZB3VKE3HNQ</td>\n",
              "      <td>B07X8V6TJF</td>\n",
              "      <td>Samsung Galaxy A51 (Black, 6GB RAM, 128GB Stor...</td>\n",
              "      <td>Yogesh Kushwaha</td>\n",
              "      <td>5 February 2020</td>\n",
              "      <td>Bought it for good camera, but its camera is v...</td>\n",
              "      <td>2.0</td>\n",
              "    </tr>\n",
              "    <tr>\n",
              "      <th>993</th>\n",
              "      <td>AG7C5BP4UMU3364QSTNILCLSIXKA</td>\n",
              "      <td>B07X8V6TJF</td>\n",
              "      <td>Samsung Galaxy A51 (Black, 6GB RAM, 128GB Stor...</td>\n",
              "      <td>Manoj</td>\n",
              "      <td>4 March 2020</td>\n",
              "      <td>Got this mobile delivered on March 3rd 2020 wi...</td>\n",
              "      <td>1.0</td>\n",
              "    </tr>\n",
              "  </tbody>\n",
              "</table>\n",
              "<p>994 rows × 7 columns</p>\n",
              "</div>"
            ],
            "text/plain": [
              "                          user_id  ... Ratings\n",
              "0    AEWOUFCYNMHAOVU27GLBTETUANJQ  ...     5.0\n",
              "1    AGGYOZ64YJTHOX5JJ3HIX45HTQ6Q  ...     5.0\n",
              "2    AEQZJNT7OMU4AD4TAQDZASBEO4KQ  ...     5.0\n",
              "3    AGPTVBSB2A66CPW6PAH73KW7KUZQ  ...     4.0\n",
              "4    AH4UDKG5WUEJPD6KB5DWSQWCRQHQ  ...     1.0\n",
              "..                            ...  ...     ...\n",
              "989  AFQEUSIV2DTRFLKZVYPSZBEPSHKA  ...     1.0\n",
              "990  AFPDMGK4PJXROQY4BARS7X6KO7WQ  ...     2.0\n",
              "991  AE4B6WKEYELUGBG27T35BAUVKD2Q  ...     4.0\n",
              "992  AEV75IBHJW5VVD4PBHZB3VKE3HNQ  ...     2.0\n",
              "993  AG7C5BP4UMU3364QSTNILCLSIXKA  ...     1.0\n",
              "\n",
              "[994 rows x 7 columns]"
            ]
          },
          "metadata": {
            "tags": []
          },
          "execution_count": 8
        }
      ]
    },
    {
      "cell_type": "code",
      "metadata": {
        "id": "OlP-Fb049K5g",
        "outputId": "f4e9a0db-7a97-4351-f073-c46bfc5fbeaf",
        "colab": {
          "base_uri": "https://localhost:8080/",
          "height": 69
        }
      },
      "source": [
        "df_amazon['Reviews'][5]"
      ],
      "execution_count": 9,
      "outputs": [
        {
          "output_type": "execute_result",
          "data": {
            "application/vnd.google.colaboratory.intrinsic+json": {
              "type": "string"
            },
            "text/plain": [
              "'The first thing is slow charging of this mobile taking more than 3 hours for full charging.  My friend bought the same mobile but that was 4 gb ram and 64 gb rom in which he got hand free but my mobile was 3 gb ram and 64 rom in which they are not providing hand free. Why?'"
            ]
          },
          "metadata": {
            "tags": []
          },
          "execution_count": 9
        }
      ]
    },
    {
      "cell_type": "code",
      "metadata": {
        "id": "mcELY3ntmyLK"
      },
      "source": [
        "from dateutil.parser import parse\n",
        "dates = []\n",
        "for date in df_amazon['Review_date']:\n",
        "    dt = parse(date)\n",
        "    dates.append(dt.date())\n",
        "df_amazon['Review_date'] = pd.DataFrame(dates)"
      ],
      "execution_count": 10,
      "outputs": []
    },
    {
      "cell_type": "markdown",
      "metadata": {
        "id": "t4ikTDQhi6A-"
      },
      "source": [
        "#Ratings:\n",
        "####Here we have discrete values in ratings.\n",
        "####As we can observe in count-graph that we have 5-star, 4-star and 1-star ratings are more than 100 respectively out of 994.\n",
        "####Along with that we can use this ratings for comparision with prediction of review from modelRNN"
      ]
    },
    {
      "cell_type": "code",
      "metadata": {
        "id": "dgFLxlNtipQA",
        "outputId": "1ee66bd4-3bf6-4130-a908-e6401a8f6197",
        "colab": {
          "base_uri": "https://localhost:8080/",
          "height": 299
        }
      },
      "source": [
        "plt.figure()\n",
        "\n",
        "sns.countplot(x = df_amazon['Ratings'], data = df_amazon)"
      ],
      "execution_count": 11,
      "outputs": [
        {
          "output_type": "execute_result",
          "data": {
            "text/plain": [
              "<matplotlib.axes._subplots.AxesSubplot at 0x7fc6c5dca3c8>"
            ]
          },
          "metadata": {
            "tags": []
          },
          "execution_count": 11
        },
        {
          "output_type": "display_data",
          "data": {
            "image/png": "[encoded data removed]",
            "text/plain": [
              "<Figure size 432x288 with 1 Axes>"
            ]
          },
          "metadata": {
            "tags": [],
            "needs_background": "light"
          }
        }
      ]
    },
    {
      "cell_type": "code",
      "metadata": {
        "id": "KNoCE1pOjTEm",
        "outputId": "a5608427-79e7-4d0e-967d-a5da21eda235",
        "colab": {
          "base_uri": "https://localhost:8080/",
          "height": 390
        }
      },
      "source": [
        "df_amazon.groupby(['model_name']).sum().sort_values(by = ['Ratings'],ascending=False)[:10]"
      ],
      "execution_count": 12,
      "outputs": [
        {
          "output_type": "execute_result",
          "data": {
            "text/html": [
              "<div>\n",
              "<style scoped>\n",
              "    .dataframe tbody tr th:only-of-type {\n",
              "        vertical-align: middle;\n",
              "    }\n",
              "\n",
              "    .dataframe tbody tr th {\n",
              "        vertical-align: top;\n",
              "    }\n",
              "\n",
              "    .dataframe thead th {\n",
              "        text-align: right;\n",
              "    }\n",
              "</style>\n",
              "<table border=\"1\" class=\"dataframe\">\n",
              "  <thead>\n",
              "    <tr style=\"text-align: right;\">\n",
              "      <th></th>\n",
              "      <th>Ratings</th>\n",
              "    </tr>\n",
              "    <tr>\n",
              "      <th>model_name</th>\n",
              "      <th></th>\n",
              "    </tr>\n",
              "  </thead>\n",
              "  <tbody>\n",
              "    <tr>\n",
              "      <th>Samsung Guru FM Plus (SM-B110E/D, White)</th>\n",
              "      <td>68.0</td>\n",
              "    </tr>\n",
              "    <tr>\n",
              "      <th>Samsung Guru Music 2 (SM-B310E, Blue)</th>\n",
              "      <td>68.0</td>\n",
              "    </tr>\n",
              "    <tr>\n",
              "      <th>Samsung Guru Music 2 (SM-B310E, Black)</th>\n",
              "      <td>68.0</td>\n",
              "    </tr>\n",
              "    <tr>\n",
              "      <th>Realme C15 (Power Blue, 4GB RAM, 64GB Storage)</th>\n",
              "      <td>58.0</td>\n",
              "    </tr>\n",
              "    <tr>\n",
              "      <th>Redmi 9 Prime (Matte Black, 4GB RAM, 64GB Storage)</th>\n",
              "      <td>58.0</td>\n",
              "    </tr>\n",
              "    <tr>\n",
              "      <th>Redmi Y3 (Prime Black, 3GB RAM, 32MP Selfie Camera, 32GB Storage, 4000mAH Battery)</th>\n",
              "      <td>56.0</td>\n",
              "    </tr>\n",
              "    <tr>\n",
              "      <th>Redmi Note 9 (Scarlet Red, 4GB RAM, 64GB Storage)</th>\n",
              "      <td>50.0</td>\n",
              "    </tr>\n",
              "    <tr>\n",
              "      <th>OPPO A52 (Stream White, 8GB RAM, 128GB Storage)</th>\n",
              "      <td>50.0</td>\n",
              "    </tr>\n",
              "    <tr>\n",
              "      <th>Realme C11 (Rich Grey, 32 GB)</th>\n",
              "      <td>50.0</td>\n",
              "    </tr>\n",
              "    <tr>\n",
              "      <th>Vivo Y20 (Obsidian Black, 6GB RAM, 64GB Storage)</th>\n",
              "      <td>50.0</td>\n",
              "    </tr>\n",
              "  </tbody>\n",
              "</table>\n",
              "</div>"
            ],
            "text/plain": [
              "                                                    Ratings\n",
              "model_name                                                 \n",
              "Samsung Guru FM Plus (SM-B110E/D, White)               68.0\n",
              "Samsung Guru Music 2 (SM-B310E, Blue)                  68.0\n",
              "Samsung Guru Music 2 (SM-B310E, Black)                 68.0\n",
              "Realme C15 (Power Blue, 4GB RAM, 64GB Storage)         58.0\n",
              "Redmi 9 Prime (Matte Black, 4GB RAM, 64GB Storage)     58.0\n",
              "Redmi Y3 (Prime Black, 3GB RAM, 32MP Selfie Cam...     56.0\n",
              "Redmi Note 9 (Scarlet Red, 4GB RAM, 64GB Storage)      50.0\n",
              "OPPO A52 (Stream White, 8GB RAM, 128GB Storage)        50.0\n",
              "Realme C11 (Rich Grey, 32 GB)                          50.0\n",
              "Vivo Y20 (Obsidian Black, 6GB RAM, 64GB Storage)       50.0"
            ]
          },
          "metadata": {
            "tags": []
          },
          "execution_count": 12
        }
      ]
    },
    {
      "cell_type": "markdown",
      "metadata": {
        "id": "R_lmp-mgsTCt"
      },
      "source": [
        "Here are the top 10 models which are rated high and have very positive response and high sells in the market."
      ]
    },
    {
      "cell_type": "code",
      "metadata": {
        "id": "9A4Zi88iB_sg"
      },
      "source": [
        "total_words = 0\n",
        "sequence_length = []\n",
        "idx = 0\n",
        "for index, row in df_amazon.iterrows():\n",
        "\n",
        "    sentence = (row['Reviews'])\n",
        "    sentence_words = sentence.split(' ')\n",
        "    len_sentence_words = len(sentence_words)\n",
        "    total_words = total_words + len_sentence_words\n",
        "\n",
        "    # get the length of the sequence of each training data\n",
        "    sequence_length.append(len_sentence_words)\n",
        "\n",
        "    if idx == 0:\n",
        "        max_seq_len = len_sentence_words\n",
        "\n",
        "\n",
        "    if len_sentence_words > max_seq_len:\n",
        "        max_seq_len = len_sentence_words\n",
        "    idx = idx + 1\n",
        "\n",
        "avg_words = total_words/index\n",
        "\n",
        "# convert to numpy array\n",
        "sequence_length_np = np.asarray(sequence_length)"
      ],
      "execution_count": 13,
      "outputs": []
    },
    {
      "cell_type": "code",
      "metadata": {
        "id": "XpWDg1WzfI79"
      },
      "source": [
        "weight_path = '/content/drive/My Drive/Colab Notebooks/best_modelRNN.hdf5'\n",
        "modelRNN.load_weights(weight_path)\n",
        "batchSize=len(df_amazon)\n",
        "score_all  = []\n",
        "for index, row in df_amazon.iterrows():\n",
        "\n",
        "    data_sample = df_amazon['Reviews'][index]\n",
        "\n",
        "    live_list = []\n",
        "    live_list_np = np.zeros((56,batchSize))\n",
        "    # split the sentence into its words and remove any punctuations.\n",
        "    tokenizer = RegexpTokenizer(r'\\w+')\n",
        "    data_sample_list = tokenizer.tokenize(data_sample)\n",
        "\n",
        "    labels = np.array(['1','2','3','4','5','6','7','8','9','10'], dtype = \"int\")\n",
        "    #word_idx['I']\n",
        "    # get index for the live stage\n",
        "    data_index = np.array([word_idx[word.lower()] if word.lower() in word_idx else 0 for word in data_sample_list])\n",
        "    data_index_np = np.array(data_index)\n",
        "\n",
        "    # padded with zeros of length 56 i.e maximum length\n",
        "    padded_array = np.zeros(1619) # use the def maxSeqLen(training_data) function to detemine the padding length for your data\n",
        "    padded_array[:data_index_np.shape[0]] = data_index_np\n",
        "    data_index_np_pad = padded_array.astype(int)\n",
        "    live_list.append(data_index_np_pad)\n",
        "\n",
        "    live_list_np = np.asarray(live_list)\n",
        "\n",
        "    # get score from the model\n",
        "    score = modelRNN.predict(live_list_np, batch_size=batchSize, verbose=0)\n",
        "    #print (score)\n",
        "\n",
        "    single_score = np.round(np.dot(score,labels)/20, decimals=2) # maximum of the array i.e single band\n",
        "    score_all.append(single_score)\n",
        "\n",
        "df_amazon['Sentiment_Score'] = pd.DataFrame(score_all)\n",
        "\n"
      ],
      "execution_count": 28,
      "outputs": []
    },
    {
      "cell_type": "code",
      "metadata": {
        "id": "jOMqrh6WhHTD"
      },
      "source": [
        "df_amazon['Sentiment_Score'] = df_amazon['Sentiment_Score']*10"
      ],
      "execution_count": 33,
      "outputs": []
    },
    {
      "cell_type": "code",
      "metadata": {
        "id": "iVjqf5KBDb8T"
      },
      "source": [
        "df_amazon.to_csv('Review_prediction.csv', index=len(df_amazon))"
      ],
      "execution_count": 35,
      "outputs": []
    }
  ]
}